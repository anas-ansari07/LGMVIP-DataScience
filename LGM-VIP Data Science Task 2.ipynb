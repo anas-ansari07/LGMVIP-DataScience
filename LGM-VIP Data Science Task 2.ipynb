{
 "cells": [
  {
   "cell_type": "markdown",
   "id": "6bf948f6",
   "metadata": {},
   "source": [
    "# LGM-VIP Data Science Internship "
   ]
  },
  {
   "cell_type": "markdown",
   "id": "8649a5d3",
   "metadata": {},
   "source": [
    "# TASK 2 - Image to Pencil Task with Python"
   ]
  },
  {
   "cell_type": "markdown",
   "id": "122965e1",
   "metadata": {},
   "source": [
    "# Author - ANAS ANSARI"
   ]
  },
  {
   "cell_type": "code",
   "execution_count": 20,
   "id": "3d8de821",
   "metadata": {},
   "outputs": [],
   "source": [
    "#importing library\n",
    "import cv2"
   ]
  },
  {
   "cell_type": "code",
   "execution_count": 21,
   "id": "f1b1788c",
   "metadata": {},
   "outputs": [
    {
     "data": {
      "text/plain": [
       "-1"
      ]
     },
     "execution_count": 21,
     "metadata": {},
     "output_type": "execute_result"
    }
   ],
   "source": [
    "#Reading image \n",
    "img=cv2.imread(\"tiger.jpg\")\n",
    "#cv2.imshow(\"Before\",img)\n",
    "cv2.waitKey(0)"
   ]
  },
  {
   "cell_type": "code",
   "execution_count": 22,
   "id": "bc6df2a6",
   "metadata": {},
   "outputs": [
    {
     "data": {
      "text/plain": [
       "-1"
      ]
     },
     "execution_count": 22,
     "metadata": {},
     "output_type": "execute_result"
    }
   ],
   "source": [
    "gray_image = cv2.cvtColor(img, cv2.COLOR_BGR2GRAY)\n",
    "#cv2.imshow(\"New grayimage\", gray_image)\n",
    "cv2.waitKey(0)"
   ]
  },
  {
   "cell_type": "code",
   "execution_count": 23,
   "id": "2ddb0d75",
   "metadata": {},
   "outputs": [
    {
     "data": {
      "text/plain": [
       "-1"
      ]
     },
     "execution_count": 23,
     "metadata": {},
     "output_type": "execute_result"
    }
   ],
   "source": [
    "invertedimage = 255 - gray_image\n",
    "#cv2.imshow(\"Inverted\", inverted_image)\n",
    "cv2.waitKey()"
   ]
  },
  {
   "cell_type": "code",
   "execution_count": 24,
   "id": "b40a1ac8",
   "metadata": {},
   "outputs": [],
   "source": [
    "blur = cv2.GaussianBlur(invertedimage, (21, 21), 0)"
   ]
  },
  {
   "cell_type": "code",
   "execution_count": 25,
   "id": "b2dcee47",
   "metadata": {},
   "outputs": [
    {
     "data": {
      "text/plain": [
       "-1"
      ]
     },
     "execution_count": 25,
     "metadata": {},
     "output_type": "execute_result"
    }
   ],
   "source": [
    "invertedblur = 255 - blur\n",
    "pencilsketch = cv2.divide(gray_image, invertedblur, scale=256.0)\n",
    "#cv2.imshow(\"Sketch\", pencilsketch)\n",
    "cv2.waitKey(0)"
   ]
  },
  {
   "cell_type": "code",
   "execution_count": 26,
   "id": "f86914cf",
   "metadata": {},
   "outputs": [
    {
     "data": {
      "text/plain": [
       "-1"
      ]
     },
     "execution_count": 26,
     "metadata": {},
     "output_type": "execute_result"
    }
   ],
   "source": [
    "cv2.imshow(\"original image\", img)\n",
    "cv2.imshow(\"pencil sketch\", pencilsketch)\n",
    "cv2.waitKey(0)"
   ]
  },
  {
   "cell_type": "code",
   "execution_count": null,
   "id": "9a45955a",
   "metadata": {},
   "outputs": [],
   "source": []
  }
 ],
 "metadata": {
  "kernelspec": {
   "display_name": "Python 3",
   "language": "python",
   "name": "python3"
  },
  "language_info": {
   "codemirror_mode": {
    "name": "ipython",
    "version": 3
   },
   "file_extension": ".py",
   "mimetype": "text/x-python",
   "name": "python",
   "nbconvert_exporter": "python",
   "pygments_lexer": "ipython3",
   "version": "3.8.8"
  }
 },
 "nbformat": 4,
 "nbformat_minor": 5
}
